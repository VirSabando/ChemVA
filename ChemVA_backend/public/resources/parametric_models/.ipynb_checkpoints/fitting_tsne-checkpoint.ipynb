{
 "cells": [
  {
   "cell_type": "code",
   "execution_count": 2,
   "metadata": {},
   "outputs": [
    {
     "name": "stderr",
     "output_type": "stream",
     "text": [
      "Using TensorFlow backend.\n"
     ]
    }
   ],
   "source": [
    "# Regression Example - proof of concept, values are wrong!!!!\n",
    "import pandas as pd\n",
    "from keras.models import Sequential\n",
    "from keras.layers import Dense\n",
    "from keras.wrappers.scikit_learn import KerasRegressor\n",
    "#from sklearn.preprocessing import StandardScaler\n",
    "from keras.callbacks import EarlyStopping, LearningRateScheduler, Callback\n",
    "from keras.backend import clear_session\n",
    "\n",
    "from sklearn.model_selection import train_test_split"
   ]
  },
  {
   "cell_type": "code",
   "execution_count": 367,
   "metadata": {},
   "outputs": [],
   "source": [
    "# load dataset\n",
    "n_epochs = 5000\n",
    "\n",
    "# Read datasets and remove NAs\n",
    "na_values = ['NaN', 'NA', 'na', 'nan']\n",
    "\n",
    "fp = pd.read_csv('../data/source_data/descriptors_glycoprotein.csv', na_values=na_values).iloc[:,1:]\n",
    "target = pd.read_csv('../data/source_data/all_data_glycoprotein.csv').iloc[:,6:8].values"
   ]
  },
  {
   "cell_type": "code",
   "execution_count": 365,
   "metadata": {},
   "outputs": [
    {
     "data": {
      "text/plain": [
       "array([[ 17.57836957,  13.50508895,   0.        , ..., 173.        ,\n",
       "          6.0625    ,   4.29166667],\n",
       "       [ 20.84852901,  17.2551178 ,   0.        , ..., 198.        ,\n",
       "         10.21527778,   5.4375    ],\n",
       "       [ 23.15050491,  19.03416666,   0.        , ..., 171.        ,\n",
       "         12.36111111,   7.08333333],\n",
       "       ...,\n",
       "       [ 21.25829203,  16.02963937,   0.        , ..., 172.        ,\n",
       "          7.75      ,   5.94444444],\n",
       "       [ 19.84407847,  16.00265023,   0.        , ..., 160.        ,\n",
       "          9.        ,   5.94444444],\n",
       "       [ 23.37961238,  17.13406223,   0.        , ..., 188.        ,\n",
       "          9.11111111,   6.69444444]])"
      ]
     },
     "execution_count": 365,
     "metadata": {},
     "output_type": "execute_result"
    }
   ],
   "source": []
  },
  {
   "cell_type": "code",
   "execution_count": 370,
   "metadata": {},
   "outputs": [
    {
     "data": {
      "text/html": [
       "<div>\n",
       "<style scoped>\n",
       "    .dataframe tbody tr th:only-of-type {\n",
       "        vertical-align: middle;\n",
       "    }\n",
       "\n",
       "    .dataframe tbody tr th {\n",
       "        vertical-align: top;\n",
       "    }\n",
       "\n",
       "    .dataframe thead th {\n",
       "        text-align: right;\n",
       "    }\n",
       "</style>\n",
       "<table border=\"1\" class=\"dataframe\">\n",
       "  <thead>\n",
       "    <tr style=\"text-align: right;\">\n",
       "      <th></th>\n",
       "      <th>ABC</th>\n",
       "      <th>ABCGG</th>\n",
       "      <th>nAcid</th>\n",
       "      <th>nBase</th>\n",
       "      <th>SpAbs_A</th>\n",
       "      <th>SpMax_A</th>\n",
       "      <th>SpDiam_A</th>\n",
       "      <th>SpAD_A</th>\n",
       "      <th>SpMAD_A</th>\n",
       "      <th>LogEE_A</th>\n",
       "      <th>...</th>\n",
       "      <th>SRW10</th>\n",
       "      <th>TSRW10</th>\n",
       "      <th>MW</th>\n",
       "      <th>AMW</th>\n",
       "      <th>WPath</th>\n",
       "      <th>WPol</th>\n",
       "      <th>Zagreb1</th>\n",
       "      <th>Zagreb2</th>\n",
       "      <th>mZagreb1</th>\n",
       "      <th>mZagreb2</th>\n",
       "    </tr>\n",
       "  </thead>\n",
       "  <tbody>\n",
       "  </tbody>\n",
       "</table>\n",
       "<p>0 rows × 1613 columns</p>\n",
       "</div>"
      ],
      "text/plain": [
       "Empty DataFrame\n",
       "Columns: [ABC, ABCGG, nAcid, nBase, SpAbs_A, SpMax_A, SpDiam_A, SpAD_A, SpMAD_A, LogEE_A, VE1_A, VE2_A, VE3_A, VR1_A, VR2_A, VR3_A, nAromAtom, nAromBond, nAtom, nHeavyAtom, nSpiro, nBridgehead, nHetero, nH, nB, nC, nN, nO, nS, nP, nF, nCl, nBr, nI, nX, ATS0dv, ATS1dv, ATS2dv, ATS3dv, ATS4dv, ATS5dv, ATS6dv, ATS7dv, ATS8dv, ATS0d, ATS1d, ATS2d, ATS3d, ATS4d, ATS5d, ATS6d, ATS7d, ATS8d, ATS0s, ATS1s, ATS2s, ATS3s, ATS4s, ATS5s, ATS6s, ATS7s, ATS8s, ATS0Z, ATS1Z, ATS2Z, ATS3Z, ATS4Z, ATS5Z, ATS6Z, ATS7Z, ATS8Z, ATS0m, ATS1m, ATS2m, ATS3m, ATS4m, ATS5m, ATS6m, ATS7m, ATS8m, ATS0v, ATS1v, ATS2v, ATS3v, ATS4v, ATS5v, ATS6v, ATS7v, ATS8v, ATS0se, ATS1se, ATS2se, ATS3se, ATS4se, ATS5se, ATS6se, ATS7se, ATS8se, ATS0pe, ATS1pe, ...]\n",
       "Index: []\n",
       "\n",
       "[0 rows x 1613 columns]"
      ]
     },
     "execution_count": 370,
     "metadata": {},
     "output_type": "execute_result"
    }
   ],
   "source": [
    "fp.drop(fp.columns[fp.isna().mean() > 0.1], inplace=True, axis=1)\n",
    "fp.fillna(value=-9999, inplace = True)\n",
    "\n",
    "fp"
   ]
  },
  {
   "cell_type": "code",
   "execution_count": null,
   "metadata": {},
   "outputs": [],
   "source": []
  },
  {
   "cell_type": "code",
   "execution_count": 369,
   "metadata": {},
   "outputs": [
    {
     "data": {
      "text/html": [
       "<div>\n",
       "<style scoped>\n",
       "    .dataframe tbody tr th:only-of-type {\n",
       "        vertical-align: middle;\n",
       "    }\n",
       "\n",
       "    .dataframe tbody tr th {\n",
       "        vertical-align: top;\n",
       "    }\n",
       "\n",
       "    .dataframe thead th {\n",
       "        text-align: right;\n",
       "    }\n",
       "</style>\n",
       "<table border=\"1\" class=\"dataframe\">\n",
       "  <thead>\n",
       "    <tr style=\"text-align: right;\">\n",
       "      <th></th>\n",
       "      <th>ABC</th>\n",
       "      <th>ABCGG</th>\n",
       "      <th>nAcid</th>\n",
       "      <th>nBase</th>\n",
       "      <th>SpAbs_A</th>\n",
       "      <th>SpMax_A</th>\n",
       "      <th>SpDiam_A</th>\n",
       "      <th>SpAD_A</th>\n",
       "      <th>SpMAD_A</th>\n",
       "      <th>LogEE_A</th>\n",
       "      <th>...</th>\n",
       "      <th>SRW10</th>\n",
       "      <th>TSRW10</th>\n",
       "      <th>MW</th>\n",
       "      <th>AMW</th>\n",
       "      <th>WPath</th>\n",
       "      <th>WPol</th>\n",
       "      <th>Zagreb1</th>\n",
       "      <th>Zagreb2</th>\n",
       "      <th>mZagreb1</th>\n",
       "      <th>mZagreb2</th>\n",
       "    </tr>\n",
       "  </thead>\n",
       "  <tbody>\n",
       "  </tbody>\n",
       "</table>\n",
       "<p>0 rows × 1613 columns</p>\n",
       "</div>"
      ],
      "text/plain": [
       "Empty DataFrame\n",
       "Columns: [ABC, ABCGG, nAcid, nBase, SpAbs_A, SpMax_A, SpDiam_A, SpAD_A, SpMAD_A, LogEE_A, VE1_A, VE2_A, VE3_A, VR1_A, VR2_A, VR3_A, nAromAtom, nAromBond, nAtom, nHeavyAtom, nSpiro, nBridgehead, nHetero, nH, nB, nC, nN, nO, nS, nP, nF, nCl, nBr, nI, nX, ATS0dv, ATS1dv, ATS2dv, ATS3dv, ATS4dv, ATS5dv, ATS6dv, ATS7dv, ATS8dv, ATS0d, ATS1d, ATS2d, ATS3d, ATS4d, ATS5d, ATS6d, ATS7d, ATS8d, ATS0s, ATS1s, ATS2s, ATS3s, ATS4s, ATS5s, ATS6s, ATS7s, ATS8s, ATS0Z, ATS1Z, ATS2Z, ATS3Z, ATS4Z, ATS5Z, ATS6Z, ATS7Z, ATS8Z, ATS0m, ATS1m, ATS2m, ATS3m, ATS4m, ATS5m, ATS6m, ATS7m, ATS8m, ATS0v, ATS1v, ATS2v, ATS3v, ATS4v, ATS5v, ATS6v, ATS7v, ATS8v, ATS0se, ATS1se, ATS2se, ATS3se, ATS4se, ATS5se, ATS6se, ATS7se, ATS8se, ATS0pe, ATS1pe, ...]\n",
       "Index: []\n",
       "\n",
       "[0 rows x 1613 columns]"
      ]
     },
     "execution_count": 369,
     "metadata": {},
     "output_type": "execute_result"
    }
   ],
   "source": [
    "\n",
    "\n",
    "a = np.zeros([893,1024])\n",
    "\n",
    "for idx,l in enumerate(fp):\n",
    "    a[idx,:] = np.asarray([np.int(e) for e in list(l)])\n",
    "\n",
    "fp = a\n",
    "fp.shape\n"
   ]
  },
  {
   "cell_type": "code",
   "execution_count": 361,
   "metadata": {},
   "outputs": [
    {
     "data": {
      "text/html": [
       "<div>\n",
       "<style scoped>\n",
       "    .dataframe tbody tr th:only-of-type {\n",
       "        vertical-align: middle;\n",
       "    }\n",
       "\n",
       "    .dataframe tbody tr th {\n",
       "        vertical-align: top;\n",
       "    }\n",
       "\n",
       "    .dataframe thead th {\n",
       "        text-align: right;\n",
       "    }\n",
       "</style>\n",
       "<table border=\"1\" class=\"dataframe\">\n",
       "  <thead>\n",
       "    <tr style=\"text-align: right;\">\n",
       "      <th></th>\n",
       "      <th>Molecular_Descriptors_tsne_x</th>\n",
       "      <th>Molecular_Descriptors_tsne_y</th>\n",
       "    </tr>\n",
       "  </thead>\n",
       "  <tbody>\n",
       "    <tr>\n",
       "      <th>0</th>\n",
       "      <td>0.869139</td>\n",
       "      <td>0.872833</td>\n",
       "    </tr>\n",
       "    <tr>\n",
       "      <th>1</th>\n",
       "      <td>0.666362</td>\n",
       "      <td>0.129869</td>\n",
       "    </tr>\n",
       "    <tr>\n",
       "      <th>2</th>\n",
       "      <td>0.546105</td>\n",
       "      <td>0.344607</td>\n",
       "    </tr>\n",
       "    <tr>\n",
       "      <th>3</th>\n",
       "      <td>0.640080</td>\n",
       "      <td>0.201781</td>\n",
       "    </tr>\n",
       "    <tr>\n",
       "      <th>4</th>\n",
       "      <td>0.258137</td>\n",
       "      <td>0.136752</td>\n",
       "    </tr>\n",
       "    <tr>\n",
       "      <th>5</th>\n",
       "      <td>0.688933</td>\n",
       "      <td>0.500868</td>\n",
       "    </tr>\n",
       "    <tr>\n",
       "      <th>6</th>\n",
       "      <td>0.690848</td>\n",
       "      <td>0.515804</td>\n",
       "    </tr>\n",
       "    <tr>\n",
       "      <th>7</th>\n",
       "      <td>0.561902</td>\n",
       "      <td>0.361488</td>\n",
       "    </tr>\n",
       "    <tr>\n",
       "      <th>8</th>\n",
       "      <td>0.555396</td>\n",
       "      <td>0.596894</td>\n",
       "    </tr>\n",
       "    <tr>\n",
       "      <th>9</th>\n",
       "      <td>0.665600</td>\n",
       "      <td>0.131301</td>\n",
       "    </tr>\n",
       "    <tr>\n",
       "      <th>10</th>\n",
       "      <td>0.563698</td>\n",
       "      <td>0.336829</td>\n",
       "    </tr>\n",
       "    <tr>\n",
       "      <th>11</th>\n",
       "      <td>0.266911</td>\n",
       "      <td>0.127927</td>\n",
       "    </tr>\n",
       "    <tr>\n",
       "      <th>12</th>\n",
       "      <td>0.698701</td>\n",
       "      <td>0.510597</td>\n",
       "    </tr>\n",
       "    <tr>\n",
       "      <th>13</th>\n",
       "      <td>0.689460</td>\n",
       "      <td>0.514539</td>\n",
       "    </tr>\n",
       "    <tr>\n",
       "      <th>14</th>\n",
       "      <td>0.572436</td>\n",
       "      <td>0.363930</td>\n",
       "    </tr>\n",
       "    <tr>\n",
       "      <th>15</th>\n",
       "      <td>0.811351</td>\n",
       "      <td>0.737287</td>\n",
       "    </tr>\n",
       "    <tr>\n",
       "      <th>16</th>\n",
       "      <td>1.000000</td>\n",
       "      <td>0.046369</td>\n",
       "    </tr>\n",
       "    <tr>\n",
       "      <th>17</th>\n",
       "      <td>0.720972</td>\n",
       "      <td>0.831261</td>\n",
       "    </tr>\n",
       "    <tr>\n",
       "      <th>18</th>\n",
       "      <td>0.764017</td>\n",
       "      <td>0.751258</td>\n",
       "    </tr>\n",
       "    <tr>\n",
       "      <th>19</th>\n",
       "      <td>0.311733</td>\n",
       "      <td>0.222252</td>\n",
       "    </tr>\n",
       "    <tr>\n",
       "      <th>20</th>\n",
       "      <td>0.663407</td>\n",
       "      <td>0.503024</td>\n",
       "    </tr>\n",
       "    <tr>\n",
       "      <th>21</th>\n",
       "      <td>0.535751</td>\n",
       "      <td>0.456891</td>\n",
       "    </tr>\n",
       "    <tr>\n",
       "      <th>22</th>\n",
       "      <td>0.534151</td>\n",
       "      <td>0.459051</td>\n",
       "    </tr>\n",
       "    <tr>\n",
       "      <th>23</th>\n",
       "      <td>0.263308</td>\n",
       "      <td>0.115972</td>\n",
       "    </tr>\n",
       "    <tr>\n",
       "      <th>24</th>\n",
       "      <td>0.304431</td>\n",
       "      <td>0.271305</td>\n",
       "    </tr>\n",
       "    <tr>\n",
       "      <th>25</th>\n",
       "      <td>0.301073</td>\n",
       "      <td>0.264104</td>\n",
       "    </tr>\n",
       "    <tr>\n",
       "      <th>26</th>\n",
       "      <td>0.599487</td>\n",
       "      <td>0.227949</td>\n",
       "    </tr>\n",
       "    <tr>\n",
       "      <th>27</th>\n",
       "      <td>0.595107</td>\n",
       "      <td>0.240601</td>\n",
       "    </tr>\n",
       "    <tr>\n",
       "      <th>28</th>\n",
       "      <td>0.773344</td>\n",
       "      <td>0.753689</td>\n",
       "    </tr>\n",
       "    <tr>\n",
       "      <th>29</th>\n",
       "      <td>0.665611</td>\n",
       "      <td>0.601819</td>\n",
       "    </tr>\n",
       "    <tr>\n",
       "      <th>...</th>\n",
       "      <td>...</td>\n",
       "      <td>...</td>\n",
       "    </tr>\n",
       "    <tr>\n",
       "      <th>863</th>\n",
       "      <td>0.826295</td>\n",
       "      <td>0.448841</td>\n",
       "    </tr>\n",
       "    <tr>\n",
       "      <th>864</th>\n",
       "      <td>0.817873</td>\n",
       "      <td>0.511285</td>\n",
       "    </tr>\n",
       "    <tr>\n",
       "      <th>865</th>\n",
       "      <td>0.821169</td>\n",
       "      <td>0.512596</td>\n",
       "    </tr>\n",
       "    <tr>\n",
       "      <th>866</th>\n",
       "      <td>0.586850</td>\n",
       "      <td>0.261679</td>\n",
       "    </tr>\n",
       "    <tr>\n",
       "      <th>867</th>\n",
       "      <td>0.820398</td>\n",
       "      <td>0.479918</td>\n",
       "    </tr>\n",
       "    <tr>\n",
       "      <th>868</th>\n",
       "      <td>0.808769</td>\n",
       "      <td>0.492336</td>\n",
       "    </tr>\n",
       "    <tr>\n",
       "      <th>869</th>\n",
       "      <td>0.796389</td>\n",
       "      <td>0.452474</td>\n",
       "    </tr>\n",
       "    <tr>\n",
       "      <th>870</th>\n",
       "      <td>0.807256</td>\n",
       "      <td>0.468497</td>\n",
       "    </tr>\n",
       "    <tr>\n",
       "      <th>871</th>\n",
       "      <td>0.804910</td>\n",
       "      <td>0.502124</td>\n",
       "    </tr>\n",
       "    <tr>\n",
       "      <th>872</th>\n",
       "      <td>0.034894</td>\n",
       "      <td>0.509089</td>\n",
       "    </tr>\n",
       "    <tr>\n",
       "      <th>873</th>\n",
       "      <td>0.557393</td>\n",
       "      <td>0.677939</td>\n",
       "    </tr>\n",
       "    <tr>\n",
       "      <th>874</th>\n",
       "      <td>0.549476</td>\n",
       "      <td>0.698557</td>\n",
       "    </tr>\n",
       "    <tr>\n",
       "      <th>875</th>\n",
       "      <td>0.731851</td>\n",
       "      <td>0.260218</td>\n",
       "    </tr>\n",
       "    <tr>\n",
       "      <th>876</th>\n",
       "      <td>0.558590</td>\n",
       "      <td>0.691683</td>\n",
       "    </tr>\n",
       "    <tr>\n",
       "      <th>877</th>\n",
       "      <td>0.551937</td>\n",
       "      <td>0.673520</td>\n",
       "    </tr>\n",
       "    <tr>\n",
       "      <th>878</th>\n",
       "      <td>0.553308</td>\n",
       "      <td>0.706091</td>\n",
       "    </tr>\n",
       "    <tr>\n",
       "      <th>879</th>\n",
       "      <td>0.573078</td>\n",
       "      <td>0.641255</td>\n",
       "    </tr>\n",
       "    <tr>\n",
       "      <th>880</th>\n",
       "      <td>0.576763</td>\n",
       "      <td>0.632244</td>\n",
       "    </tr>\n",
       "    <tr>\n",
       "      <th>881</th>\n",
       "      <td>0.551937</td>\n",
       "      <td>0.673520</td>\n",
       "    </tr>\n",
       "    <tr>\n",
       "      <th>882</th>\n",
       "      <td>0.581056</td>\n",
       "      <td>0.747642</td>\n",
       "    </tr>\n",
       "    <tr>\n",
       "      <th>883</th>\n",
       "      <td>0.557393</td>\n",
       "      <td>0.677939</td>\n",
       "    </tr>\n",
       "    <tr>\n",
       "      <th>884</th>\n",
       "      <td>0.707863</td>\n",
       "      <td>0.208441</td>\n",
       "    </tr>\n",
       "    <tr>\n",
       "      <th>885</th>\n",
       "      <td>0.582090</td>\n",
       "      <td>0.751538</td>\n",
       "    </tr>\n",
       "    <tr>\n",
       "      <th>886</th>\n",
       "      <td>0.693092</td>\n",
       "      <td>0.205607</td>\n",
       "    </tr>\n",
       "    <tr>\n",
       "      <th>887</th>\n",
       "      <td>0.553310</td>\n",
       "      <td>0.706097</td>\n",
       "    </tr>\n",
       "    <tr>\n",
       "      <th>888</th>\n",
       "      <td>0.549475</td>\n",
       "      <td>0.698555</td>\n",
       "    </tr>\n",
       "    <tr>\n",
       "      <th>889</th>\n",
       "      <td>0.702935</td>\n",
       "      <td>0.215223</td>\n",
       "    </tr>\n",
       "    <tr>\n",
       "      <th>890</th>\n",
       "      <td>0.705275</td>\n",
       "      <td>0.208284</td>\n",
       "    </tr>\n",
       "    <tr>\n",
       "      <th>891</th>\n",
       "      <td>0.695719</td>\n",
       "      <td>0.207707</td>\n",
       "    </tr>\n",
       "    <tr>\n",
       "      <th>892</th>\n",
       "      <td>0.701603</td>\n",
       "      <td>0.222922</td>\n",
       "    </tr>\n",
       "  </tbody>\n",
       "</table>\n",
       "<p>893 rows × 2 columns</p>\n",
       "</div>"
      ],
      "text/plain": [
       "     Molecular_Descriptors_tsne_x  Molecular_Descriptors_tsne_y\n",
       "0                        0.869139                      0.872833\n",
       "1                        0.666362                      0.129869\n",
       "2                        0.546105                      0.344607\n",
       "3                        0.640080                      0.201781\n",
       "4                        0.258137                      0.136752\n",
       "..                            ...                           ...\n",
       "888                      0.549475                      0.698555\n",
       "889                      0.702935                      0.215223\n",
       "890                      0.705275                      0.208284\n",
       "891                      0.695719                      0.207707\n",
       "892                      0.701603                      0.222922\n",
       "\n",
       "[893 rows x 2 columns]"
      ]
     },
     "execution_count": 361,
     "metadata": {},
     "output_type": "execute_result"
    }
   ],
   "source": [
    "target"
   ]
  },
  {
   "cell_type": "code",
   "execution_count": 338,
   "metadata": {},
   "outputs": [],
   "source": [
    "early_stop = EarlyStopping(monitor='val_loss', \n",
    "                       mode='min',\n",
    "                       patience=130,\n",
    "                       min_delta = 0.005,\n",
    "                       restore_best_weights=True,\n",
    "                       verbose=True)"
   ]
  },
  {
   "cell_type": "code",
   "execution_count": 339,
   "metadata": {},
   "outputs": [],
   "source": [
    "clear_session() #borra el grafo de la sesion. Util cuando creamos muchos modelos en una sesion.\n",
    "\n",
    "# define base model\n",
    "def baseline_model():\n",
    "    # create model\n",
    "    model = Sequential()\n",
    "    model.add(Dense(100, input_dim=1024, kernel_initializer='normal', activation='relu'))\n",
    "    model.add(Dense(10, kernel_initializer='normal', activation='relu'))\n",
    "    model.add(Dense(2, kernel_initializer='normal'))\n",
    "    # Compile model\n",
    "    model.compile(loss='mean_squared_error', optimizer='adam')\n",
    "    return model"
   ]
  },
  {
   "cell_type": "code",
   "execution_count": 340,
   "metadata": {},
   "outputs": [],
   "source": [
    "#scaler = StandardScaler()\n",
    "#new_target= scaler.fit(target.values)\n",
    "\n",
    "X = fp\n",
    "y = target\n",
    "\n",
    "# Particionado de datos para entrenar\n",
    "# dividir el entrenamiento en train/test --> cambié las proporciones: 70% train, 15% validacion, 15% held-out\n",
    "X_train, X_test_valid, y_train, y_test_valid = train_test_split(X, y, \n",
    "                                                    test_size=0.2,random_state=42)\n",
    "\n",
    "X_test, X_valid, y_test, y_valid = train_test_split(X_test_valid, y_test_valid,\n",
    "                                                    test_size=0.5,random_state=42)\n",
    "\n",
    "#devolver cada set como tupla\n",
    "train = (X_train, y_train)\n",
    "test = (X_test,y_test)\n",
    "ev = (X_valid,y_valid)"
   ]
  },
  {
   "cell_type": "code",
   "execution_count": 341,
   "metadata": {},
   "outputs": [
    {
     "name": "stdout",
     "output_type": "stream",
     "text": [
      "Train on 714 samples, validate on 89 samples\n",
      "Epoch 1/2000\n",
      " - 1s - loss: 0.1814 - val_loss: 0.0636\n",
      "Epoch 2/2000\n",
      " - 0s - loss: 0.0571 - val_loss: 0.0539\n",
      "Epoch 3/2000\n",
      " - 0s - loss: 0.0477 - val_loss: 0.0434\n",
      "Epoch 4/2000\n",
      " - 0s - loss: 0.0388 - val_loss: 0.0331\n",
      "Epoch 5/2000\n",
      " - 0s - loss: 0.0303 - val_loss: 0.0278\n",
      "Epoch 6/2000\n",
      " - 0s - loss: 0.0240 - val_loss: 0.0227\n",
      "Epoch 7/2000\n",
      " - 0s - loss: 0.0182 - val_loss: 0.0173\n",
      "Epoch 8/2000\n",
      " - 0s - loss: 0.0143 - val_loss: 0.0140\n",
      "Epoch 9/2000\n",
      " - 0s - loss: 0.0113 - val_loss: 0.0120\n",
      "Epoch 10/2000\n",
      " - 0s - loss: 0.0092 - val_loss: 0.0105\n",
      "Epoch 11/2000\n",
      " - 0s - loss: 0.0076 - val_loss: 0.0089\n",
      "Epoch 12/2000\n",
      " - 0s - loss: 0.0065 - val_loss: 0.0081\n",
      "Epoch 13/2000\n",
      " - 0s - loss: 0.0056 - val_loss: 0.0075\n",
      "Epoch 14/2000\n",
      " - 0s - loss: 0.0048 - val_loss: 0.0066\n",
      "Epoch 15/2000\n",
      " - 0s - loss: 0.0041 - val_loss: 0.0061\n",
      "Epoch 16/2000\n",
      " - 0s - loss: 0.0037 - val_loss: 0.0059\n",
      "Epoch 17/2000\n",
      " - 0s - loss: 0.0033 - val_loss: 0.0053\n",
      "Epoch 18/2000\n",
      " - 0s - loss: 0.0029 - val_loss: 0.0051\n",
      "Epoch 19/2000\n",
      " - 0s - loss: 0.0027 - val_loss: 0.0044\n",
      "Epoch 20/2000\n",
      " - 0s - loss: 0.0025 - val_loss: 0.0043\n",
      "Epoch 21/2000\n",
      " - 0s - loss: 0.0023 - val_loss: 0.0041\n",
      "Epoch 22/2000\n",
      " - 0s - loss: 0.0021 - val_loss: 0.0041\n",
      "Epoch 23/2000\n",
      " - 0s - loss: 0.0019 - val_loss: 0.0037\n",
      "Epoch 24/2000\n",
      " - 0s - loss: 0.0017 - val_loss: 0.0041\n",
      "Epoch 25/2000\n",
      " - 0s - loss: 0.0017 - val_loss: 0.0034\n",
      "Epoch 26/2000\n",
      " - 0s - loss: 0.0015 - val_loss: 0.0033\n",
      "Epoch 27/2000\n",
      " - 0s - loss: 0.0014 - val_loss: 0.0030\n",
      "Epoch 28/2000\n",
      " - 0s - loss: 0.0014 - val_loss: 0.0033\n",
      "Epoch 29/2000\n",
      " - 0s - loss: 0.0013 - val_loss: 0.0035\n",
      "Epoch 30/2000\n",
      " - 0s - loss: 0.0012 - val_loss: 0.0027\n",
      "Epoch 31/2000\n",
      " - 0s - loss: 0.0011 - val_loss: 0.0032\n",
      "Epoch 32/2000\n",
      " - 0s - loss: 0.0011 - val_loss: 0.0025\n",
      "Epoch 33/2000\n",
      " - 0s - loss: 0.0011 - val_loss: 0.0024\n",
      "Epoch 34/2000\n",
      " - 0s - loss: 8.7227e-04 - val_loss: 0.0028\n",
      "Epoch 35/2000\n",
      " - 0s - loss: 8.5983e-04 - val_loss: 0.0024\n",
      "Epoch 36/2000\n",
      " - 0s - loss: 7.5268e-04 - val_loss: 0.0024\n",
      "Epoch 37/2000\n",
      " - 0s - loss: 7.5799e-04 - val_loss: 0.0022\n",
      "Epoch 38/2000\n",
      " - 0s - loss: 8.0960e-04 - val_loss: 0.0024\n",
      "Epoch 39/2000\n",
      " - 0s - loss: 6.9495e-04 - val_loss: 0.0022\n",
      "Epoch 40/2000\n",
      " - 0s - loss: 7.0662e-04 - val_loss: 0.0025\n",
      "Epoch 41/2000\n",
      " - 0s - loss: 7.6018e-04 - val_loss: 0.0021\n",
      "Epoch 42/2000\n",
      " - 0s - loss: 6.9810e-04 - val_loss: 0.0023\n",
      "Epoch 43/2000\n",
      " - 0s - loss: 6.0710e-04 - val_loss: 0.0023\n",
      "Epoch 44/2000\n",
      " - 0s - loss: 5.6652e-04 - val_loss: 0.0022\n",
      "Epoch 45/2000\n",
      " - 0s - loss: 5.1248e-04 - val_loss: 0.0027\n",
      "Epoch 46/2000\n",
      " - 0s - loss: 5.7739e-04 - val_loss: 0.0020\n",
      "Epoch 47/2000\n",
      " - 0s - loss: 5.2528e-04 - val_loss: 0.0024\n",
      "Epoch 48/2000\n",
      " - 0s - loss: 4.8883e-04 - val_loss: 0.0021\n",
      "Epoch 49/2000\n",
      " - 0s - loss: 4.4279e-04 - val_loss: 0.0024\n",
      "Epoch 50/2000\n",
      " - 0s - loss: 4.4953e-04 - val_loss: 0.0020\n",
      "Epoch 51/2000\n",
      " - 0s - loss: 4.2663e-04 - val_loss: 0.0022\n",
      "Epoch 52/2000\n",
      " - 0s - loss: 3.7834e-04 - val_loss: 0.0020\n",
      "Epoch 53/2000\n",
      " - 0s - loss: 3.5020e-04 - val_loss: 0.0021\n",
      "Epoch 54/2000\n",
      " - 0s - loss: 3.3213e-04 - val_loss: 0.0020\n",
      "Epoch 55/2000\n",
      " - 0s - loss: 3.3723e-04 - val_loss: 0.0019\n",
      "Epoch 56/2000\n",
      " - 0s - loss: 3.1323e-04 - val_loss: 0.0019\n",
      "Epoch 57/2000\n",
      " - 0s - loss: 2.9550e-04 - val_loss: 0.0020\n",
      "Epoch 58/2000\n",
      " - 0s - loss: 3.0091e-04 - val_loss: 0.0020\n",
      "Epoch 59/2000\n",
      " - 0s - loss: 3.0804e-04 - val_loss: 0.0024\n",
      "Epoch 60/2000\n",
      " - 0s - loss: 3.3750e-04 - val_loss: 0.0018\n",
      "Epoch 61/2000\n",
      " - 0s - loss: 3.1997e-04 - val_loss: 0.0021\n",
      "Epoch 62/2000\n",
      " - 0s - loss: 2.7312e-04 - val_loss: 0.0019\n",
      "Epoch 63/2000\n",
      " - 0s - loss: 2.4544e-04 - val_loss: 0.0019\n",
      "Epoch 64/2000\n",
      " - 0s - loss: 2.4864e-04 - val_loss: 0.0020\n",
      "Epoch 65/2000\n",
      " - 0s - loss: 2.3829e-04 - val_loss: 0.0019\n",
      "Epoch 66/2000\n",
      " - 0s - loss: 2.3334e-04 - val_loss: 0.0019\n",
      "Epoch 67/2000\n",
      " - 0s - loss: 2.3355e-04 - val_loss: 0.0019\n",
      "Epoch 68/2000\n",
      " - 0s - loss: 2.3474e-04 - val_loss: 0.0017\n",
      "Epoch 69/2000\n",
      " - 0s - loss: 2.8351e-04 - val_loss: 0.0022\n",
      "Epoch 70/2000\n",
      " - 0s - loss: 2.5749e-04 - val_loss: 0.0019\n",
      "Epoch 71/2000\n",
      " - 0s - loss: 2.0881e-04 - val_loss: 0.0018\n",
      "Epoch 72/2000\n",
      " - 0s - loss: 2.1770e-04 - val_loss: 0.0018\n",
      "Epoch 73/2000\n",
      " - 0s - loss: 1.9795e-04 - val_loss: 0.0018\n",
      "Epoch 74/2000\n",
      " - 0s - loss: 1.8289e-04 - val_loss: 0.0019\n",
      "Epoch 75/2000\n",
      " - 0s - loss: 2.1353e-04 - val_loss: 0.0020\n",
      "Epoch 76/2000\n",
      " - 0s - loss: 2.0369e-04 - val_loss: 0.0020\n",
      "Epoch 77/2000\n",
      " - 0s - loss: 2.2403e-04 - val_loss: 0.0018\n",
      "Epoch 78/2000\n",
      " - 0s - loss: 2.5860e-04 - val_loss: 0.0019\n",
      "Epoch 79/2000\n",
      " - 0s - loss: 2.6592e-04 - val_loss: 0.0019\n",
      "Epoch 80/2000\n",
      " - 0s - loss: 2.2226e-04 - val_loss: 0.0019\n",
      "Epoch 81/2000\n",
      " - 0s - loss: 1.8373e-04 - val_loss: 0.0025\n",
      "Epoch 82/2000\n",
      " - 0s - loss: 2.6063e-04 - val_loss: 0.0017\n",
      "Epoch 83/2000\n",
      " - 0s - loss: 2.0870e-04 - val_loss: 0.0018\n",
      "Epoch 84/2000\n",
      " - 0s - loss: 1.6388e-04 - val_loss: 0.0019\n",
      "Epoch 85/2000\n",
      " - 0s - loss: 1.7354e-04 - val_loss: 0.0017\n",
      "Epoch 86/2000\n",
      " - 0s - loss: 1.4500e-04 - val_loss: 0.0019\n",
      "Epoch 87/2000\n",
      " - 0s - loss: 1.5376e-04 - val_loss: 0.0018\n",
      "Epoch 88/2000\n",
      " - 0s - loss: 2.0170e-04 - val_loss: 0.0017\n",
      "Epoch 89/2000\n",
      " - 0s - loss: 1.8957e-04 - val_loss: 0.0019\n",
      "Epoch 90/2000\n",
      " - 0s - loss: 1.5913e-04 - val_loss: 0.0020\n",
      "Epoch 91/2000\n",
      " - 0s - loss: 1.5211e-04 - val_loss: 0.0018\n",
      "Epoch 92/2000\n",
      " - 0s - loss: 1.2980e-04 - val_loss: 0.0018\n",
      "Epoch 93/2000\n",
      " - 0s - loss: 1.2336e-04 - val_loss: 0.0017\n",
      "Epoch 94/2000\n",
      " - 0s - loss: 1.2023e-04 - val_loss: 0.0018\n",
      "Epoch 95/2000\n",
      " - 0s - loss: 1.2102e-04 - val_loss: 0.0020\n",
      "Epoch 96/2000\n",
      " - 0s - loss: 1.4557e-04 - val_loss: 0.0020\n",
      "Epoch 97/2000\n",
      " - 0s - loss: 1.3775e-04 - val_loss: 0.0017\n",
      "Epoch 98/2000\n",
      " - 0s - loss: 1.0805e-04 - val_loss: 0.0017\n",
      "Epoch 99/2000\n",
      " - 0s - loss: 1.0338e-04 - val_loss: 0.0017\n",
      "Epoch 100/2000\n",
      " - 0s - loss: 1.1814e-04 - val_loss: 0.0017\n",
      "Epoch 101/2000\n",
      " - 0s - loss: 1.0548e-04 - val_loss: 0.0018\n",
      "Epoch 102/2000\n",
      " - 0s - loss: 1.0019e-04 - val_loss: 0.0017\n",
      "Epoch 103/2000\n",
      " - 0s - loss: 9.2417e-05 - val_loss: 0.0017\n",
      "Epoch 104/2000\n",
      " - 0s - loss: 9.5169e-05 - val_loss: 0.0017\n",
      "Epoch 105/2000\n",
      " - 0s - loss: 9.1017e-05 - val_loss: 0.0017\n",
      "Epoch 106/2000\n",
      " - 0s - loss: 9.2624e-05 - val_loss: 0.0018\n",
      "Epoch 107/2000\n",
      " - 0s - loss: 8.9724e-05 - val_loss: 0.0017\n",
      "Epoch 108/2000\n",
      " - 0s - loss: 8.5961e-05 - val_loss: 0.0019\n",
      "Epoch 109/2000\n",
      " - 0s - loss: 1.1201e-04 - val_loss: 0.0020\n",
      "Epoch 110/2000\n",
      " - 0s - loss: 1.3519e-04 - val_loss: 0.0019\n",
      "Epoch 111/2000\n",
      " - 0s - loss: 9.9268e-05 - val_loss: 0.0018\n",
      "Epoch 112/2000\n",
      " - 0s - loss: 1.0721e-04 - val_loss: 0.0020\n",
      "Epoch 113/2000\n",
      " - 0s - loss: 1.1507e-04 - val_loss: 0.0019\n",
      "Epoch 114/2000\n",
      " - 0s - loss: 1.0053e-04 - val_loss: 0.0018\n",
      "Epoch 115/2000\n",
      " - 0s - loss: 9.6522e-05 - val_loss: 0.0017\n",
      "Epoch 116/2000\n",
      " - 0s - loss: 8.4258e-05 - val_loss: 0.0016\n",
      "Epoch 117/2000\n",
      " - 0s - loss: 1.1230e-04 - val_loss: 0.0017\n",
      "Epoch 118/2000\n",
      " - 0s - loss: 1.0841e-04 - val_loss: 0.0017\n",
      "Epoch 119/2000\n",
      " - 0s - loss: 8.9215e-05 - val_loss: 0.0019\n",
      "Epoch 120/2000\n",
      " - 0s - loss: 8.7667e-05 - val_loss: 0.0019\n",
      "Epoch 121/2000\n",
      " - 0s - loss: 8.5787e-05 - val_loss: 0.0018\n",
      "Epoch 122/2000\n",
      " - 0s - loss: 7.1878e-05 - val_loss: 0.0017\n",
      "Epoch 123/2000\n",
      " - 0s - loss: 8.6458e-05 - val_loss: 0.0017\n",
      "Epoch 124/2000\n",
      " - 0s - loss: 7.2349e-05 - val_loss: 0.0017\n",
      "Epoch 125/2000\n",
      " - 0s - loss: 6.8867e-05 - val_loss: 0.0018\n",
      "Epoch 126/2000\n",
      " - 0s - loss: 6.6889e-05 - val_loss: 0.0017\n",
      "Epoch 127/2000\n",
      " - 0s - loss: 6.4209e-05 - val_loss: 0.0017\n",
      "Epoch 128/2000\n",
      " - 0s - loss: 6.3301e-05 - val_loss: 0.0016\n",
      "Epoch 129/2000\n",
      " - 0s - loss: 6.7180e-05 - val_loss: 0.0017\n",
      "Epoch 130/2000\n",
      " - 0s - loss: 6.7751e-05 - val_loss: 0.0017\n",
      "Epoch 131/2000\n",
      " - 0s - loss: 7.2001e-05 - val_loss: 0.0018\n",
      "Epoch 132/2000\n",
      " - 0s - loss: 6.6526e-05 - val_loss: 0.0018\n",
      "Epoch 133/2000\n",
      " - 0s - loss: 7.6250e-05 - val_loss: 0.0019\n",
      "Epoch 134/2000\n",
      " - 0s - loss: 7.8637e-05 - val_loss: 0.0017\n",
      "Epoch 135/2000\n",
      " - 0s - loss: 9.1373e-05 - val_loss: 0.0017\n",
      "Epoch 136/2000\n",
      " - 0s - loss: 7.0318e-05 - val_loss: 0.0017\n",
      "Epoch 137/2000\n",
      " - 0s - loss: 6.5624e-05 - val_loss: 0.0016\n",
      "Epoch 138/2000\n",
      " - 0s - loss: 9.7554e-05 - val_loss: 0.0019\n",
      "Epoch 139/2000\n",
      " - 0s - loss: 7.3566e-05 - val_loss: 0.0019\n",
      "Epoch 140/2000\n",
      " - 0s - loss: 7.7867e-05 - val_loss: 0.0017\n",
      "Epoch 141/2000\n",
      " - 0s - loss: 7.2150e-05 - val_loss: 0.0016\n",
      "Epoch 142/2000\n",
      " - 0s - loss: 7.0475e-05 - val_loss: 0.0018\n",
      "Epoch 143/2000\n"
     ]
    },
    {
     "name": "stdout",
     "output_type": "stream",
     "text": [
      " - 0s - loss: 6.0872e-05 - val_loss: 0.0017\n",
      "Epoch 144/2000\n",
      " - 0s - loss: 5.6028e-05 - val_loss: 0.0017\n",
      "Epoch 145/2000\n",
      " - 0s - loss: 5.3429e-05 - val_loss: 0.0017\n",
      "Epoch 146/2000\n",
      " - 0s - loss: 5.1416e-05 - val_loss: 0.0017\n",
      "Epoch 147/2000\n",
      " - 0s - loss: 4.7811e-05 - val_loss: 0.0017\n",
      "Epoch 148/2000\n",
      " - 0s - loss: 4.9596e-05 - val_loss: 0.0017\n",
      "Epoch 149/2000\n",
      " - 0s - loss: 6.1867e-05 - val_loss: 0.0019\n",
      "Epoch 150/2000\n",
      " - 0s - loss: 8.2400e-05 - val_loss: 0.0017\n",
      "Epoch 151/2000\n",
      " - 0s - loss: 6.4422e-05 - val_loss: 0.0016\n",
      "Epoch 152/2000\n",
      " - 0s - loss: 6.2368e-05 - val_loss: 0.0017\n",
      "Epoch 153/2000\n",
      " - 0s - loss: 5.0015e-05 - val_loss: 0.0018\n",
      "Epoch 154/2000\n",
      " - 0s - loss: 5.0639e-05 - val_loss: 0.0017\n",
      "Epoch 155/2000\n",
      " - 0s - loss: 4.8187e-05 - val_loss: 0.0016\n",
      "Epoch 156/2000\n",
      " - 0s - loss: 4.4354e-05 - val_loss: 0.0016\n",
      "Epoch 157/2000\n",
      " - 0s - loss: 4.5303e-05 - val_loss: 0.0016\n",
      "Epoch 158/2000\n",
      " - 0s - loss: 4.5670e-05 - val_loss: 0.0017\n",
      "Epoch 159/2000\n",
      " - 0s - loss: 4.4180e-05 - val_loss: 0.0018\n",
      "Epoch 160/2000\n",
      " - 0s - loss: 4.3680e-05 - val_loss: 0.0018\n",
      "Epoch 161/2000\n",
      " - 0s - loss: 4.4876e-05 - val_loss: 0.0017\n",
      "Epoch 162/2000\n",
      " - 0s - loss: 5.4824e-05 - val_loss: 0.0016\n",
      "Epoch 163/2000\n",
      " - 0s - loss: 5.5546e-05 - val_loss: 0.0019\n",
      "Epoch 164/2000\n",
      " - 0s - loss: 7.3182e-05 - val_loss: 0.0017\n",
      "Epoch 165/2000\n",
      " - 0s - loss: 9.4622e-05 - val_loss: 0.0016\n",
      "Epoch 166/2000\n",
      " - 0s - loss: 7.6692e-05 - val_loss: 0.0019\n",
      "Epoch 167/2000\n",
      " - 0s - loss: 6.9565e-05 - val_loss: 0.0016\n",
      "Epoch 168/2000\n",
      " - 0s - loss: 5.0587e-05 - val_loss: 0.0018\n",
      "Epoch 169/2000\n",
      " - 0s - loss: 4.2494e-05 - val_loss: 0.0019\n",
      "Epoch 170/2000\n",
      " - 0s - loss: 5.0245e-05 - val_loss: 0.0017\n",
      "Epoch 171/2000\n",
      " - 0s - loss: 4.0950e-05 - val_loss: 0.0017\n",
      "Epoch 172/2000\n",
      " - 0s - loss: 4.3811e-05 - val_loss: 0.0016\n",
      "Epoch 173/2000\n",
      " - 0s - loss: 4.5201e-05 - val_loss: 0.0018\n",
      "Epoch 174/2000\n",
      " - 0s - loss: 3.8801e-05 - val_loss: 0.0018\n",
      "Epoch 175/2000\n",
      " - 0s - loss: 3.9771e-05 - val_loss: 0.0017\n",
      "Epoch 176/2000\n",
      " - 0s - loss: 3.7227e-05 - val_loss: 0.0016\n",
      "Epoch 177/2000\n",
      " - 0s - loss: 6.5824e-05 - val_loss: 0.0020\n",
      "Epoch 178/2000\n",
      " - 0s - loss: 6.2029e-05 - val_loss: 0.0017\n",
      "Epoch 179/2000\n",
      " - 0s - loss: 4.5316e-05 - val_loss: 0.0017\n",
      "Epoch 180/2000\n",
      " - 0s - loss: 3.7517e-05 - val_loss: 0.0017\n",
      "Epoch 181/2000\n",
      " - 0s - loss: 4.7370e-05 - val_loss: 0.0018\n",
      "Epoch 182/2000\n",
      " - 0s - loss: 4.9857e-05 - val_loss: 0.0018\n",
      "Epoch 183/2000\n",
      " - 0s - loss: 3.7329e-05 - val_loss: 0.0017\n",
      "Epoch 184/2000\n",
      " - 0s - loss: 4.8103e-05 - val_loss: 0.0017\n",
      "Epoch 185/2000\n",
      " - 0s - loss: 3.3528e-05 - val_loss: 0.0017\n",
      "Epoch 186/2000\n",
      " - 0s - loss: 3.3439e-05 - val_loss: 0.0016\n",
      "Epoch 187/2000\n",
      " - 0s - loss: 6.7147e-05 - val_loss: 0.0019\n",
      "Epoch 188/2000\n",
      " - 0s - loss: 7.2136e-05 - val_loss: 0.0017\n",
      "Epoch 189/2000\n",
      " - 0s - loss: 5.8261e-05 - val_loss: 0.0018\n",
      "Epoch 190/2000\n",
      " - 0s - loss: 4.4483e-05 - val_loss: 0.0016\n",
      "Epoch 191/2000\n",
      " - 0s - loss: 4.6109e-05 - val_loss: 0.0018\n",
      "Epoch 192/2000\n",
      " - 0s - loss: 4.4266e-05 - val_loss: 0.0017\n",
      "Epoch 193/2000\n",
      " - 0s - loss: 3.1929e-05 - val_loss: 0.0019\n",
      "Epoch 194/2000\n",
      " - 0s - loss: 6.4979e-05 - val_loss: 0.0016\n",
      "Epoch 195/2000\n",
      " - 0s - loss: 8.4707e-05 - val_loss: 0.0018\n",
      "Epoch 196/2000\n",
      " - 0s - loss: 6.2529e-05 - val_loss: 0.0016\n",
      "Epoch 197/2000\n",
      " - 0s - loss: 1.3533e-04 - val_loss: 0.0019\n",
      "Epoch 198/2000\n",
      " - 0s - loss: 5.4162e-05 - val_loss: 0.0017\n",
      "Epoch 199/2000\n",
      " - 0s - loss: 3.7015e-05 - val_loss: 0.0019\n",
      "Epoch 200/2000\n",
      " - 0s - loss: 6.0472e-05 - val_loss: 0.0016\n",
      "Epoch 201/2000\n",
      " - 0s - loss: 3.6404e-05 - val_loss: 0.0018\n",
      "Epoch 202/2000\n",
      " - 0s - loss: 3.5218e-05 - val_loss: 0.0018\n",
      "Epoch 203/2000\n",
      " - 0s - loss: 3.9071e-05 - val_loss: 0.0020\n",
      "Epoch 204/2000\n",
      " - 0s - loss: 5.9244e-05 - val_loss: 0.0016\n",
      "Epoch 205/2000\n",
      " - 0s - loss: 4.0813e-05 - val_loss: 0.0018\n",
      "Epoch 206/2000\n",
      " - 0s - loss: 4.0910e-05 - val_loss: 0.0016\n",
      "Epoch 207/2000\n",
      " - 0s - loss: 3.7072e-05 - val_loss: 0.0017\n",
      "Epoch 208/2000\n",
      " - 0s - loss: 5.4378e-05 - val_loss: 0.0018\n",
      "Epoch 209/2000\n",
      " - 0s - loss: 1.1361e-04 - val_loss: 0.0017\n",
      "Epoch 210/2000\n",
      " - 0s - loss: 1.3078e-04 - val_loss: 0.0017\n",
      "Epoch 211/2000\n",
      " - 0s - loss: 7.6519e-05 - val_loss: 0.0016\n",
      "Epoch 212/2000\n",
      " - 0s - loss: 7.5170e-05 - val_loss: 0.0018\n",
      "Epoch 213/2000\n",
      " - 0s - loss: 5.5338e-05 - val_loss: 0.0016\n",
      "Epoch 214/2000\n",
      " - 0s - loss: 6.6558e-05 - val_loss: 0.0019\n",
      "Epoch 215/2000\n",
      " - 0s - loss: 7.6150e-05 - val_loss: 0.0017\n",
      "Epoch 216/2000\n",
      " - 0s - loss: 5.2632e-05 - val_loss: 0.0018\n",
      "Epoch 217/2000\n",
      " - 0s - loss: 3.5453e-05 - val_loss: 0.0017\n",
      "Epoch 218/2000\n",
      " - 0s - loss: 3.7954e-05 - val_loss: 0.0018\n",
      "Epoch 219/2000\n",
      " - 0s - loss: 5.3468e-05 - val_loss: 0.0016\n",
      "Epoch 220/2000\n",
      " - 0s - loss: 3.4473e-05 - val_loss: 0.0017\n",
      "Epoch 221/2000\n",
      " - 0s - loss: 3.7677e-05 - val_loss: 0.0017\n",
      "Epoch 222/2000\n",
      " - 0s - loss: 4.3084e-05 - val_loss: 0.0019\n",
      "Epoch 223/2000\n",
      " - 0s - loss: 1.0073e-04 - val_loss: 0.0017\n",
      "Epoch 224/2000\n",
      " - 0s - loss: 8.1840e-05 - val_loss: 0.0017\n",
      "Epoch 225/2000\n",
      " - 0s - loss: 7.9764e-05 - val_loss: 0.0018\n",
      "Epoch 226/2000\n",
      " - 0s - loss: 6.1702e-05 - val_loss: 0.0017\n",
      "Epoch 227/2000\n",
      " - 0s - loss: 5.9631e-05 - val_loss: 0.0016\n",
      "Epoch 228/2000\n",
      " - 0s - loss: 4.4901e-05 - val_loss: 0.0017\n",
      "Epoch 229/2000\n",
      " - 0s - loss: 3.8908e-05 - val_loss: 0.0017\n",
      "Epoch 230/2000\n",
      " - 0s - loss: 4.1152e-05 - val_loss: 0.0016\n",
      "Epoch 231/2000\n",
      " - 0s - loss: 3.9564e-05 - val_loss: 0.0018\n",
      "Epoch 232/2000\n",
      " - 0s - loss: 5.5574e-05 - val_loss: 0.0016\n",
      "Epoch 233/2000\n",
      " - 0s - loss: 5.7173e-05 - val_loss: 0.0018\n",
      "Epoch 234/2000\n",
      " - 0s - loss: 6.3822e-05 - val_loss: 0.0016\n",
      "Epoch 235/2000\n",
      " - 0s - loss: 5.5989e-05 - val_loss: 0.0017\n",
      "Epoch 236/2000\n",
      " - 0s - loss: 2.7518e-05 - val_loss: 0.0018\n",
      "Epoch 237/2000\n",
      " - 0s - loss: 3.0806e-05 - val_loss: 0.0016\n",
      "Epoch 238/2000\n",
      " - 0s - loss: 2.8647e-05 - val_loss: 0.0017\n",
      "Epoch 239/2000\n",
      " - 0s - loss: 2.6013e-05 - val_loss: 0.0017\n",
      "Epoch 240/2000\n",
      " - 0s - loss: 2.2162e-05 - val_loss: 0.0016\n",
      "Epoch 241/2000\n",
      " - 0s - loss: 2.3942e-05 - val_loss: 0.0018\n",
      "Epoch 242/2000\n",
      " - 0s - loss: 2.3290e-05 - val_loss: 0.0016\n",
      "Epoch 243/2000\n",
      " - 0s - loss: 4.0548e-05 - val_loss: 0.0019\n",
      "Epoch 244/2000\n",
      " - 0s - loss: 6.2070e-05 - val_loss: 0.0017\n",
      "Epoch 245/2000\n",
      " - 0s - loss: 3.7767e-05 - val_loss: 0.0016\n",
      "Epoch 246/2000\n",
      " - 0s - loss: 3.8102e-05 - val_loss: 0.0018\n",
      "Epoch 247/2000\n",
      " - 0s - loss: 5.4618e-05 - val_loss: 0.0016\n",
      "Epoch 248/2000\n",
      " - 0s - loss: 5.7078e-05 - val_loss: 0.0016\n",
      "Epoch 249/2000\n",
      " - 0s - loss: 4.3026e-05 - val_loss: 0.0017\n",
      "Epoch 250/2000\n",
      " - 0s - loss: 2.9644e-05 - val_loss: 0.0017\n",
      "Epoch 251/2000\n",
      " - 0s - loss: 2.6416e-05 - val_loss: 0.0018\n",
      "Epoch 252/2000\n",
      " - 0s - loss: 4.5430e-05 - val_loss: 0.0016\n",
      "Epoch 253/2000\n",
      " - 0s - loss: 3.8190e-05 - val_loss: 0.0018\n",
      "Epoch 254/2000\n",
      " - 0s - loss: 4.8579e-05 - val_loss: 0.0021\n",
      "Epoch 255/2000\n",
      " - 0s - loss: 8.4776e-05 - val_loss: 0.0016\n",
      "Epoch 256/2000\n",
      " - 0s - loss: 4.0818e-05 - val_loss: 0.0017\n",
      "Epoch 257/2000\n",
      " - 0s - loss: 3.5462e-05 - val_loss: 0.0017\n",
      "Epoch 258/2000\n",
      " - 0s - loss: 2.6075e-05 - val_loss: 0.0017\n",
      "Restoring model weights from the end of the best epoch\n",
      "Epoch 00258: early stopping\n"
     ]
    },
    {
     "data": {
      "text/plain": [
       "<keras.callbacks.callbacks.History at 0x7f419004eb10>"
      ]
     },
     "execution_count": 341,
     "metadata": {},
     "output_type": "execute_result"
    }
   ],
   "source": [
    "estimator = KerasRegressor(build_fn=baseline_model, epochs=2000, batch_size=100, verbose=2)\n",
    "estimator.fit(train[0], train[1], validation_data=[test[0], test[1]], callbacks=[early_stop])"
   ]
  },
  {
   "cell_type": "markdown",
   "metadata": {},
   "source": [
    "## Model prediction"
   ]
  },
  {
   "cell_type": "code",
   "execution_count": 222,
   "metadata": {},
   "outputs": [],
   "source": [
    "import numpy as np\n",
    "import seaborn as sns\n",
    "import matplotlib.pyplot as plt"
   ]
  },
  {
   "cell_type": "code",
   "execution_count": 342,
   "metadata": {},
   "outputs": [
    {
     "data": {
      "text/plain": [
       "(714, 2)"
      ]
     },
     "execution_count": 342,
     "metadata": {},
     "output_type": "execute_result"
    }
   ],
   "source": [
    "pred = estimator.predict(train[0])\n",
    "\n",
    "plot_1 = np.array([pred[:,0],y_train[:,0]])\n",
    "plot_1 = plot_1.T\n",
    "\n",
    "plot_2 = np.array([pred[:,1],y_train[:,1]])\n",
    "plot_2 = plot_2.T\n",
    "\n",
    "plot_1.shape"
   ]
  },
  {
   "cell_type": "code",
   "execution_count": 347,
   "metadata": {},
   "outputs": [
    {
     "data": {
      "text/plain": [
       "(90, 2)"
      ]
     },
     "execution_count": 347,
     "metadata": {},
     "output_type": "execute_result"
    }
   ],
   "source": [
    "pred = estimator.predict(ev[0])\n",
    "\n",
    "plot_1 = np.array([pred[:,0],y_valid[:,0]])\n",
    "plot_1 = plot_1.T\n",
    "\n",
    "plot_2 = np.array([pred[:,1],y_valid[:,1]])\n",
    "plot_2 = plot_2.T\n",
    "\n",
    "plot_1.shape"
   ]
  },
  {
   "cell_type": "code",
   "execution_count": 348,
   "metadata": {
    "scrolled": false
   },
   "outputs": [
    {
     "data": {
      "text/plain": [
       "<matplotlib.axes._subplots.AxesSubplot at 0x7f41647d0110>"
      ]
     },
     "execution_count": 348,
     "metadata": {},
     "output_type": "execute_result"
    },
    {
     "data": {
      "image/png": "[encoded data removed]",
      "text/plain": [
       "<Figure size 576x360 with 1 Axes>"
      ]
     },
     "metadata": {
      "needs_background": "light"
     },
     "output_type": "display_data"
    }
   ],
   "source": [
    "# Formatting for scatterplot: run only on jupyter notebooks\n",
    "data = pd.DataFrame(plot_1, index = np.arange(len(plot_1)),columns=['x','y'])\n",
    "\n",
    "plt.figure(figsize=(8,5))\n",
    "sns.scatterplot(x=\"x\", y=\"y\", data= data, legend=\"full\", alpha=1)"
   ]
  },
  {
   "cell_type": "code",
   "execution_count": 349,
   "metadata": {},
   "outputs": [
    {
     "data": {
      "text/plain": [
       "<matplotlib.axes._subplots.AxesSubplot at 0x7f416468e1d0>"
      ]
     },
     "execution_count": 349,
     "metadata": {},
     "output_type": "execute_result"
    },
    {
     "data": {
      "image/png": "[encoded data removed]",
      "text/plain": [
       "<Figure size 576x360 with 1 Axes>"
      ]
     },
     "metadata": {
      "needs_background": "light"
     },
     "output_type": "display_data"
    }
   ],
   "source": [
    "# Formatting for scatterplot: run only on jupyter notebooks\n",
    "data = pd.DataFrame(plot_2, index = np.arange(len(plot_2)),columns=['x','y'])\n",
    "\n",
    "plt.figure(figsize=(8,5))\n",
    "sns.scatterplot(x=\"x\", y=\"y\", data= data, legend=\"full\", alpha=1)"
   ]
  },
  {
   "cell_type": "code",
   "execution_count": 350,
   "metadata": {},
   "outputs": [
    {
     "data": {
      "text/plain": [
       "(0.95412806961477, 7.217489210076805e-48)"
      ]
     },
     "execution_count": 350,
     "metadata": {},
     "output_type": "execute_result"
    }
   ],
   "source": [
    "import scipy\n",
    "scipy.stats.pearsonr(plot_1[:,0], plot_1[:,1])"
   ]
  },
  {
   "cell_type": "code",
   "execution_count": 351,
   "metadata": {},
   "outputs": [
    {
     "data": {
      "text/plain": [
       "(0.8959848440790893, 8.953071095991822e-33)"
      ]
     },
     "execution_count": 351,
     "metadata": {},
     "output_type": "execute_result"
    }
   ],
   "source": [
    "import scipy\n",
    "scipy.stats.pearsonr(plot_2[:,0], plot_2[:,1])"
   ]
  },
  {
   "cell_type": "code",
   "execution_count": 352,
   "metadata": {},
   "outputs": [],
   "source": [
    "# serialize model to JSON\n",
    "model_json = estimator.model.to_json()\n",
    "with open(\"model_daylight_g.json\", \"w\") as json_file:\n",
    "    json_file.write(model_json)\n",
    "# serialize weights to HDF5\n",
    "estimator.model.save_weights(\"model_daylight_g.h5\")"
   ]
  },
  {
   "cell_type": "markdown",
   "metadata": {},
   "source": [
    "### Prueba: cargar modelos preentrenados"
   ]
  },
  {
   "cell_type": "code",
   "execution_count": 358,
   "metadata": {},
   "outputs": [
    {
     "name": "stdout",
     "output_type": "stream",
     "text": [
      "Loaded model from disk\n",
      "Model: \"sequential_1\"\n",
      "_________________________________________________________________\n",
      "Layer (type)                 Output Shape              Param #   \n",
      "=================================================================\n",
      "dense_1 (Dense)              (None, 50)                15050     \n",
      "_________________________________________________________________\n",
      "dense_2 (Dense)              (None, 10)                510       \n",
      "_________________________________________________________________\n",
      "dense_3 (Dense)              (None, 2)                 22        \n",
      "=================================================================\n",
      "Total params: 15,582\n",
      "Trainable params: 15,582\n",
      "Non-trainable params: 0\n",
      "_________________________________________________________________\n"
     ]
    }
   ],
   "source": [
    "import h5py\n",
    "from keras.models import model_from_json\n",
    "\n",
    "# load json and create model\n",
    "json_file = open('model_embeddings_2t.json', 'r')\n",
    "loaded_model_json = json_file.read()\n",
    "json_file.close()\n",
    "loaded_model = model_from_json(loaded_model_json)\n",
    "# load weights into new model\n",
    "loaded_model.load_weights(\"model_embeddings_2t.h5\")\n",
    "print(\"Loaded model from disk\")\n",
    "\n",
    "loaded_model.summary()"
   ]
  },
  {
   "cell_type": "markdown",
   "metadata": {},
   "source": [
    "# ----- Hasta aca es lo que importa -----"
   ]
  },
  {
   "cell_type": "markdown",
   "metadata": {},
   "source": [
    "### Train"
   ]
  },
  {
   "cell_type": "code",
   "execution_count": 37,
   "metadata": {},
   "outputs": [
    {
     "data": {
      "text/plain": [
       "<matplotlib.axes._subplots.AxesSubplot at 0x7f42dc109350>"
      ]
     },
     "execution_count": 37,
     "metadata": {},
     "output_type": "execute_result"
    },
    {
     "data": {
      "image/png": "[encoded data removed]",
      "text/plain": [
       "<Figure size 576x360 with 1 Axes>"
      ]
     },
     "metadata": {
      "needs_background": "light"
     },
     "output_type": "display_data"
    }
   ],
   "source": [
    "# Formatting for scatterplot: run only on jupyter notebooks\n",
    "pred = estimator.predict(train[0])\n",
    "data = pd.DataFrame(pred, index = np.arange(len(pred)),columns=['x','y'])\n",
    "\n",
    "plt.figure(figsize=(8,5))\n",
    "sns.scatterplot(x=\"x\", y=\"y\", data= data, legend=\"full\", alpha=1)"
   ]
  },
  {
   "cell_type": "code",
   "execution_count": 39,
   "metadata": {},
   "outputs": [
    {
     "data": {
      "text/plain": [
       "0.009593338"
      ]
     },
     "execution_count": 39,
     "metadata": {},
     "output_type": "execute_result"
    }
   ],
   "source": [
    "np.min(pred)"
   ]
  },
  {
   "cell_type": "markdown",
   "metadata": {},
   "source": [
    "### Test"
   ]
  },
  {
   "cell_type": "code",
   "execution_count": 40,
   "metadata": {},
   "outputs": [
    {
     "data": {
      "text/plain": [
       "<matplotlib.axes._subplots.AxesSubplot at 0x7f42bc71f690>"
      ]
     },
     "execution_count": 40,
     "metadata": {},
     "output_type": "execute_result"
    },
    {
     "data": {
      "image/png": "[encoded data removed]",
      "text/plain": [
       "<Figure size 576x360 with 1 Axes>"
      ]
     },
     "metadata": {
      "needs_background": "light"
     },
     "output_type": "display_data"
    }
   ],
   "source": [
    "# Formatting for scatterplot: run only on jupyter notebooks\n",
    "pred = estimator.predict(test[0])\n",
    "data = pd.DataFrame(pred, index = np.arange(len(pred)),columns=['x','y'])\n",
    "\n",
    "plt.figure(figsize=(8,5))\n",
    "sns.scatterplot(x=\"x\", y=\"y\", data= data, legend=\"full\", alpha=1)"
   ]
  },
  {
   "cell_type": "code",
   "execution_count": 42,
   "metadata": {},
   "outputs": [
    {
     "data": {
      "text/plain": [
       "1.0105598"
      ]
     },
     "execution_count": 42,
     "metadata": {},
     "output_type": "execute_result"
    }
   ],
   "source": [
    "np.max(pred)"
   ]
  },
  {
   "cell_type": "markdown",
   "metadata": {},
   "source": [
    "## Actual tsne projection"
   ]
  },
  {
   "cell_type": "markdown",
   "metadata": {},
   "source": [
    "### Train"
   ]
  },
  {
   "cell_type": "code",
   "execution_count": 43,
   "metadata": {},
   "outputs": [
    {
     "data": {
      "text/plain": [
       "<matplotlib.axes._subplots.AxesSubplot at 0x7f42bc6afe10>"
      ]
     },
     "execution_count": 43,
     "metadata": {},
     "output_type": "execute_result"
    },
    {
     "data": {
      "image/png": "[encoded data removed]",
      "text/plain": [
       "<Figure size 576x360 with 1 Axes>"
      ]
     },
     "metadata": {
      "needs_background": "light"
     },
     "output_type": "display_data"
    }
   ],
   "source": [
    "# Formatting for scatterplot: run only on jupyter notebooks\n",
    "data = pd.DataFrame(y_train, index = np.arange(len(train[0])),columns=['x','y'])\n",
    "\n",
    "plt.figure(figsize=(8,5))\n",
    "sns.scatterplot(x=\"x\", y=\"y\", data= data, legend=\"full\", alpha=1)\n"
   ]
  },
  {
   "cell_type": "code",
   "execution_count": 45,
   "metadata": {},
   "outputs": [
    {
     "data": {
      "text/plain": [
       "0.0"
      ]
     },
     "execution_count": 45,
     "metadata": {},
     "output_type": "execute_result"
    }
   ],
   "source": [
    "np.min(train[1])"
   ]
  },
  {
   "cell_type": "markdown",
   "metadata": {},
   "source": [
    "### Test"
   ]
  },
  {
   "cell_type": "code",
   "execution_count": 46,
   "metadata": {},
   "outputs": [
    {
     "data": {
      "text/plain": [
       "<matplotlib.axes._subplots.AxesSubplot at 0x7f42bc66a490>"
      ]
     },
     "execution_count": 46,
     "metadata": {},
     "output_type": "execute_result"
    },
    {
     "data": {
      "image/png": "[encoded data removed]",
      "text/plain": [
       "<Figure size 576x360 with 1 Axes>"
      ]
     },
     "metadata": {
      "needs_background": "light"
     },
     "output_type": "display_data"
    }
   ],
   "source": [
    "# Formatting for scatterplot: run only on jupyter notebooks\n",
    "data = pd.DataFrame(test[1], index = np.arange(len(test[1])),columns=['x','y'])\n",
    "\n",
    "plt.figure(figsize=(8,5))\n",
    "sns.scatterplot(x=\"x\", y=\"y\", data= data, legend=\"full\", alpha=1)"
   ]
  }
 ],
 "metadata": {
  "kernelspec": {
   "display_name": "Python 3",
   "language": "python",
   "name": "python3"
  },
  "language_info": {
   "codemirror_mode": {
    "name": "ipython",
    "version": 3
   },
   "file_extension": ".py",
   "mimetype": "text/x-python",
   "name": "python",
   "nbconvert_exporter": "python",
   "pygments_lexer": "ipython3",
   "version": "3.7.4"
  }
 },
 "nbformat": 4,
 "nbformat_minor": 2
}
